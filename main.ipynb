{
 "cells": [
  {
   "cell_type": "code",
   "execution_count": 7,
   "metadata": {},
   "outputs": [],
   "source": [
    "import numpy as np\n",
    "import matplotlib.pyplot as plt\n",
    "import pandas as pd"
   ]
  },
  {
   "cell_type": "code",
   "execution_count": 20,
   "metadata": {},
   "outputs": [
    {
     "data": {
      "image/png": "[encoded data removed]",
      "text/plain": [
       "<Figure size 1000x1000 with 1 Axes>"
      ]
     },
     "metadata": {},
     "output_type": "display_data"
    }
   ],
   "source": [
    "import matplotlib.pyplot as plt\n",
    "import numpy as np\n",
    "\n",
    "# Pontos inicial e final da reta\n",
    "ponto_inicial = (0,0)\n",
    "ponto_final = (0,9.8)\n",
    "\n",
    "# Centro e raio do círculo\n",
    "centro_do_circulo = (5.063871,15.670472)\n",
    "raio_do_circulo = 7.5\n",
    "\n",
    "# Calcular o comprimento da reta\n",
    "comprimento_da_reta = np.sqrt((ponto_final[0] - ponto_inicial[0])**2 + (ponto_final[1] - ponto_inicial[1])**2)\n",
    "\n",
    "# Escolher uma escala para a visualização\n",
    "escala = 10  # cada unidade na visualização será equivalente a 10 unidades reais\n",
    "\n",
    "# Criar a figura e os eixos\n",
    "fig, ax = plt.subplots(figsize=(10, 10))\n",
    "\n",
    "# Desenhar a reta\n",
    "reta_x = [ponto_inicial[0], ponto_final[0]]\n",
    "reta_y = [ponto_inicial[1], ponto_final[1]]\n",
    "ax.plot(reta_x, reta_y, color='blue', label='Reta')\n",
    "plt.scatter(centro_do_circulo[0],centro_do_circulo[1])\n",
    "# Desenhar o círculo\n",
    "circulo = plt.Circle(centro_do_circulo, raio_do_circulo, color='red', fill=False, label='Círculo')\n",
    "ax.add_artist(circulo)\n",
    "\n",
    "# Configurar os limites dos eixos\n",
    "limite_x = [min(ponto_inicial[0], ponto_final[0]) - raio_do_circulo, max(ponto_inicial[0], ponto_final[0]) + raio_do_circulo]\n",
    "limite_y = [min(ponto_inicial[1], ponto_final[1]) - raio_do_circulo, max(ponto_inicial[1], ponto_final[1]) + raio_do_circulo]\n",
    "ax.set_xlim(centro_do_circulo[0]- 5*raio_do_circulo,centro_do_circulo[0] + 5*raio_do_circulo)\n",
    "ax.set_ylim(centro_do_circulo[1]- 5*raio_do_circulo,centro_do_circulo[1] + 5*raio_do_circulo)\n",
    "\n",
    "# Adicionar grade e legenda\n",
    "ax.legend()\n",
    "\n",
    "# Mostrar a visualização\n",
    "plt.gca().set_aspect('equal', adjustable='box')  # Assegurar proporção de aspecto igual\n",
    "plt.show()\n"
   ]
  },
  {
   "cell_type": "code",
   "execution_count": 5,
   "metadata": {},
   "outputs": [
    {
     "data": {
      "text/plain": [
       "-7.232611000000006"
      ]
     },
     "execution_count": 5,
     "metadata": {},
     "output_type": "execute_result"
    }
   ],
   "source": [
    "-138.000000*0 + 105.944552*-1+98.711941"
   ]
  },
  {
   "cell_type": "code",
   "execution_count": 3,
   "metadata": {},
   "outputs": [
    {
     "name": "stderr",
     "output_type": "stream",
     "text": [
      "  0%|          | 0/101 [00:00<?, ?it/s]"
     ]
    },
    {
     "name": "stderr",
     "output_type": "stream",
     "text": [
      "100%|██████████| 101/101 [00:11<00:00,  9.05it/s]\n"
     ]
    }
   ],
   "source": [
    "import matplotlib.pyplot as plt\n",
    "import numpy as np\n",
    "import os\n",
    "import imageio.v2 as imageio  # Importando a versão 2 especificamente\n",
    "from tqdm import tqdm\n",
    "\n",
    "# Carregar dados do arquivo TXT\n",
    "data = np.loadtxt(\"./example.txt\").T\n",
    "df = {\n",
    "    'Tempo': data[0],\n",
    "    \"id\": data[1].astype(int),\n",
    "    \"x\": data[2],\n",
    "    \"y\": data[3],\n",
    "}\n",
    "dados = pd.DataFrame(df)\n",
    "# Configurações iniciais do plot\n",
    "fig, ax = plt.subplots()\n",
    "ax.set_xlim(-304,304)\n",
    "ax.set_ylim(0, 910)\n",
    "\n",
    "# Lista para armazenar os frames\n",
    "filenames = []\n",
    "dt = 0.25/2\n",
    "t = 0\n",
    "count = 0\n",
    "while(t < dados[\"Tempo\"].max()):\n",
    "    ax.clear()\n",
    "    ax.set_xlim(-324,324)\n",
    "    ax.set_ylim(0, 910)\n",
    "\n",
    "    ax.plot([0,0],[0,9.8], color='blue')\n",
    "    ax.plot([150,150],[0,9.8], color='blue')\n",
    "\n",
    "    ax.plot([0,-154],[9.8,9.8 + 154*np.tan(np.pi*30/180)], color='blue')\n",
    "    ax.plot([150,304],[9.8,9.8 + 154*np.tan(np.pi*30/180)], color='blue')\n",
    "    ax.plot([-154,-154],[9.8 + 154*np.tan(np.pi*30/180),910], color='blue')\n",
    "    ax.plot([304,304],[9.8 + 154*np.tan(np.pi*30/180),910], color='blue')\n",
    "\n",
    "    data_int_time = dados[dados[\"Tempo\"] == t]\n",
    "    for particula in data_int_time[[\"x\",'y']].values:\n",
    "        if(particula[1] > 0):\n",
    "            ax.scatter(particula[0], particula[1], color='red')  # Destaca a posição atual\n",
    "    \n",
    "    # Salvar o frame\n",
    "    #ax.text(0.05, 0.95, f'Time: {current_time:.2f}', transform=ax.transAxes, fontsize=12,verticalalignment='top', bbox=dict(boxstyle='round', facecolor='white', alpha=0.8))\n",
    "    filename = f'./frames/frame_{count}.png'\n",
    "    plt.gca().set_aspect('equal', adjustable='box')  # Assegurar proporção de aspecto igual\n",
    "    plt.savefig(filename)\n",
    "    filenames.append(filename)\n",
    "\n",
    "    t += dt\n",
    "    count += 1\n",
    "\n",
    "# Criar GIF\n",
    "with imageio.get_writer('./frames/particula_movimento.gif', mode='I', duration=0.05) as writer:\n",
    "    for filename in filenames:\n",
    "        image = imageio.imread(filename)\n",
    "        writer.append_data(image)\n",
    "        # Remover os arquivos de frame para limpeza\n",
    "        os.remove(filename)\n",
    "\n",
    "plt.close()\n"
   ]
  }
 ],
 "metadata": {
  "kernelspec": {
   "display_name": "Python 3",
   "language": "python",
   "name": "python3"
  },
  "language_info": {
   "codemirror_mode": {
    "name": "ipython",
    "version": 3
   },
   "file_extension": ".py",
   "mimetype": "text/x-python",
   "name": "python",
   "nbconvert_exporter": "python",
   "pygments_lexer": "ipython3",
   "version": "3.10.12"
  }
 },
 "nbformat": 4,
 "nbformat_minor": 2
}
